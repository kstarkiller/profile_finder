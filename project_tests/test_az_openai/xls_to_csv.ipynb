{
 "cells": [
  {
   "cell_type": "code",
   "execution_count": 1,
   "metadata": {},
   "outputs": [],
   "source": [
    "import os\n",
    "import pandas as pd"
   ]
  },
  {
   "cell_type": "code",
   "execution_count": 2,
   "metadata": {},
   "outputs": [],
   "source": [
    "# Read .xlsx\n",
    "df_psarm = pd.read_excel(r\"c:\\Users\\k.simon\\Desktop\\test_og\\UC_RS_LP_RES_SKILLS_DETLS_22_1440892995.xlsx\")\n",
    "df_coaff = pd.read_excel(r\"c:\\Users\\k.simon\\Desktop\\test_og\\Coaff_V1.xlsx\")\n",
    "\n",
    "# Clean .xlsx\n",
    "df_coaff = df_coaff.iloc[2:] # Delete first 3 rows\n",
    "df_coaff.columns = df_coaff.iloc[0] # Make first row the header Coaff\n",
    "df_psarm.columns = df_psarm.iloc[0] # Make first row the header PSARM\n",
    "df_coaff = df_coaff[1:] # Delete firt row Coaff\n",
    "df_psarm = df_psarm[1:] # Delete firt row PSARM\n",
    "df_coaff.reset_index(drop=True, inplace=True) # Reset index Coaff\n",
    "df_psarm.reset_index(drop=True, inplace=True) # Reset index PSARM\n",
    "\n",
    "# Convert .xls to . csv\n",
    "df_psarm.to_csv(r\"c:\\Users\\k.simon\\Desktop\\test_csv\\UC_RS_LP_RES_SKILLS_DETLS_22_1440892995.csv\", index=None, header=True)\n",
    "df_coaff.to_csv(r\"c:\\Users\\k.simon\\Desktop\\test_csv\\Coaff_V1.csv\", index=None, header=True)"
   ]
  }
 ],
 "metadata": {
  "kernelspec": {
   "display_name": "Python 3 (ipykernel)",
   "language": "python",
   "name": "python3"
  },
  "language_info": {
   "codemirror_mode": {
    "name": "ipython",
    "version": 3
   },
   "file_extension": ".py",
   "mimetype": "text/x-python",
   "name": "python",
   "nbconvert_exporter": "python",
   "pygments_lexer": "ipython3",
   "version": "3.11.9"
  }
 },
 "nbformat": 4,
 "nbformat_minor": 2
}
