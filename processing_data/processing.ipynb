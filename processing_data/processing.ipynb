{
 "cells": [
  {
   "cell_type": "code",
   "execution_count": null,
   "metadata": {},
   "outputs": [],
   "source": [
    "import pandas as pd\n",
    "from pprint import pprint\n",
    "import os\n",
    "\n",
    "# Paths according to the OS\n",
    "if os.name == 'posix':\n",
    "    fixture_coaff_path = '/home/kevin/simplon/briefs/avv-matcher/processing_data/datas/fixtures_coaff.csv'\n",
    "    fixture_psarm_path = '/home/kevin/simplon/briefs/avv-matcher/processing_data/datas/fixtures_psarm.csv'\n",
    "    combined_result_path = '/home/kevin/simplon/briefs/avv-matcher/processing_data/datas/combined_result.csv'\n",
    "else:\n",
    "    fixture_coaff_path = r'C:\\Users\\k.simon\\Projet\\avv-matcher\\processing_data\\datas\\fixtures_coaff.csv'\n",
    "    fixture_psarm_path = r'C:\\Users\\k.simon\\Projet\\avv-matcher\\processing_data\\datas\\fixtures_psarm.csv'\n",
    "    combined_result_path = r'C:\\Users\\k.simon\\Projet\\avv-matcher\\processing_data\\datas\\combined_result.csv'\n",
    "\n",
    "coaff_df = pd.read_csv(fixture_coaff_path)\n",
    "\n",
    "coaff_df.head(10)"
   ]
  },
  {
   "cell_type": "code",
   "execution_count": null,
   "metadata": {},
   "outputs": [],
   "source": [
    "psarm_df = pd.read_csv(fixture_psarm_path)\n",
    "\n",
    "psarm_df.head(10)"
   ]
  },
  {
   "cell_type": "code",
   "execution_count": null,
   "metadata": {},
   "outputs": [],
   "source": [
    "# Joindre les deux dataframes avec la colonne 'Nom' comme clé\n",
    "combined_df = pd.merge(coaff_df, psarm_df, on='Nom')\n",
    "\n",
    "# Afficher les 10 premières lignes du dataframe combiné\n",
    "combined_df.columns"
   ]
  },
  {
   "cell_type": "code",
   "execution_count": null,
   "metadata": {},
   "outputs": [],
   "source": [
    "resultat_dict = {}\n",
    "\n",
    "grouped_df = combined_df.groupby(['Nom', 'COEFF_F212', 'PROFIL', 'Localisation', 'Stream_BT', 'Code', 'Supervisor Name'])\n",
    "\n",
    "for (nom, coeff, profil, localisation, stream_bt, code, manager), group in grouped_df:\n",
    "    availabilities = group.groupby(['Missions_en_cours', 'Competences', 'Date_Demarrage', 'Date_de_fin', 'Tx_occup'])\n",
    "    competencies = group.groupby(['Description', 'Proficiency Description'])\n",
    "\n",
    "    cle_principale = f\"Nom: {nom}, Code: {code}, Coefficient: {coeff}, Profil: {profil}, Localisation: {localisation}, Equipe: {stream_bt}, Manager: {manager}\"\n",
    "        \n",
    "    if cle_principale not in resultat_dict:\n",
    "        resultat_dict[cle_principale] = {\"Missions\": [], \"Compétences\": []} \n",
    "\n",
    "    for (mission, competences, demarrage, fin, tx), availabilities in availabilities:\n",
    "        if mission == 'DISPO ICE':\n",
    "            key_value = f\"Disponible à {int((float(tx))*100)}% du {demarrage} au {fin}\"\n",
    "        elif mission == \"congés\":\n",
    "            key_value = f\"En congés à {int((float(tx))*100)}% du {demarrage} au {fin}\"\n",
    "        else:\n",
    "            key_value = f\"Mission {competences} à {int((float(tx))*100)}% d'occupation chez {mission} du {demarrage} au {fin}\"\n",
    "    \n",
    "        resultat_dict[cle_principale][\"Missions\"].append(key_value)\n",
    "\n",
    "    for (description, proficiency), competencies in competencies:\n",
    "        if proficiency == '1-Faible':\n",
    "            key_value = f\"Compétent en {description} à un niveau faible\"\n",
    "        elif proficiency == '2-Bon':\n",
    "            key_value = f\"Compétent en {description} à un niveau bon\"\n",
    "        elif proficiency == '3-Très bon':\n",
    "            key_value = f\"Compétent en {description} à un niveau très bon\"\n",
    "        elif proficiency == '4-Expert':\n",
    "            key_value = f\"Compétent en {description} à un niveau expert\"\n",
    "\n",
    "        resultat_dict[cle_principale][\"Compétences\"].append(key_value)\n",
    "\n",
    "pprint(resultat_dict, width=200)"
   ]
  },
  {
   "cell_type": "code",
   "execution_count": null,
   "metadata": {},
   "outputs": [],
   "source": [
    "# Exporter le dictionnaire en csv\n",
    "resultat_df = pd.DataFrame(resultat_dict).T\n",
    "\n",
    "# Renommer la première colonne en 'Membre'\n",
    "resultat_df = resultat_df.rename_axis('Membres').reset_index()\n",
    "\n",
    "# Convertir chaque colonne en chaîne de caractères avant la concaténation\n",
    "resultat_df['Combined'] = resultat_df['Membres'].astype(str) + resultat_df[\"Missions\"].astype(str) + resultat_df[\"Compétences\"].astype(str)\n",
    "\n",
    "# Replace \"['\" by \", Missions: ['\" in the 'Combined' column\n",
    "resultat_df['Combined'] = resultat_df['Combined'].str.replace('[\"', ', Missions: [\"')\n",
    "resultat_df['Combined'] = resultat_df['Combined'].str.replace(\"][\", \"], Compétences: [\")\n",
    "\n",
    "resultat_df.to_csv(combined_result_path)\n",
    "pprint(resultat_df['Combined'][0])"
   ]
  }
 ],
 "metadata": {
  "kernelspec": {
   "display_name": "matching_project",
   "language": "python",
   "name": "python3"
  },
  "language_info": {
   "codemirror_mode": {
    "name": "ipython",
    "version": 3
   },
   "file_extension": ".py",
   "mimetype": "text/x-python",
   "name": "python",
   "nbconvert_exporter": "python",
   "pygments_lexer": "ipython3",
   "version": "3.11.9"
  }
 },
 "nbformat": 4,
 "nbformat_minor": 2
}
